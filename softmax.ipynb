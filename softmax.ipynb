{
 "cells": [
  {
   "cell_type": "markdown",
   "id": "c68d93be",
   "metadata": {},
   "source": [
    "# Softmax Regression"
   ]
  },
  {
   "cell_type": "markdown",
   "id": "301d4d46",
   "metadata": {},
   "source": [
    "## Necessary Libraries"
   ]
  },
  {
   "cell_type": "code",
   "execution_count": null,
   "id": "82584f0a",
   "metadata": {},
   "outputs": [
    {
     "name": "stdout",
     "output_type": "stream",
     "text": [
      "Defaulting to user installation because normal site-packages is not writeable\n",
      "Requirement already satisfied: scikit-learn in /home/rodrigoabreu/.local/lib/python3.10/site-packages (1.6.1)\n",
      "Requirement already satisfied: joblib>=1.2.0 in /home/rodrigoabreu/.local/lib/python3.10/site-packages (from scikit-learn) (1.4.2)\n",
      "Requirement already satisfied: scipy>=1.6.0 in /home/rodrigoabreu/.local/lib/python3.10/site-packages (from scikit-learn) (1.15.2)\n",
      "Requirement already satisfied: numpy>=1.19.5 in /home/rodrigoabreu/.local/lib/python3.10/site-packages (from scikit-learn) (2.2.4)\n",
      "Requirement already satisfied: threadpoolctl>=3.1.0 in /home/rodrigoabreu/.local/lib/python3.10/site-packages (from scikit-learn) (3.6.0)\n",
      "Note: you may need to restart the kernel to use updated packages.\n"
     ]
    }
   ],
   "source": [
    "%pip install scikit-learn\n",
    "\n",
    "import numpy as np\n",
    "import matplotlib.pyplot as plt\n",
    "import pandas as pd\n",
    "\n",
    "from sklearn.linear_model import LogisticRegression\n",
    "from sklearn.metrics import accuracy_score, classification_report, confusion_matrix\n",
    "import matplotlib.pyplot as plt\n",
    "import seaborn as sns"
   ]
  },
  {
   "cell_type": "markdown",
   "id": "fcbb8ddf",
   "metadata": {},
   "source": [
    "# Load the data and define variables\n"
   ]
  },
  {
   "cell_type": "code",
   "execution_count": 7,
   "id": "916289e4",
   "metadata": {},
   "outputs": [],
   "source": [
    "# Taining and testing data\n",
    "train = pd.read_csv('data/sign_mnist_train.csv')\n",
    "test = pd.read_csv('data/sign_mnist_test.csv')\n",
    "\n",
    "# Size of the images\n",
    "image_width = 28\n",
    "image_height = 28"
   ]
  },
  {
   "cell_type": "markdown",
   "id": "ec461dce",
   "metadata": {},
   "source": [
    "## Load training data"
   ]
  },
  {
   "cell_type": "code",
   "execution_count": 8,
   "id": "2ecbb05c",
   "metadata": {},
   "outputs": [
    {
     "name": "stdout",
     "output_type": "stream",
     "text": [
      "Number of training examples: 27455\n",
      "Number of features: 784\n",
      "Number of classes: 24\n",
      "X_shape: (27455, 784)\n",
      "y_shape: (27455,)\n"
     ]
    }
   ],
   "source": [
    "# training images\n",
    "X = np.array(train.drop('label', axis=1))\n",
    "# training labels\n",
    "y = np.array(train['label'])\n",
    "\n",
    "# number of examples\n",
    "m = len(y)\n",
    "\n",
    "# normalize the data\n",
    "# Pixel values typically range from 0 to 255.\n",
    "# Dividing by 255.0 scales the data to a [0, 1] range.\n",
    "# Normalization improves the performance and convergence speed of many machine learning algorithms\n",
    "\n",
    "pixel_max_value = 255.0\n",
    "\n",
    "X = np.array(X , dtype='float')/ pixel_max_value\n",
    "\n",
    "# number of different labels\n",
    "n_classes = len(np.unique(y))\n",
    "\n",
    "# we get 24 instead of 26 labels because we do not have \"j\" and \"z\" samples (maybe because they are movement signals).\n",
    "# in order to not get empty labels lets rename the labels\n",
    "for i in range(len(y)):\n",
    "    if y[i] > 8:\n",
    "        y[i] -= 1\n",
    "\n",
    "print(f'Number of training examples: {m}')\n",
    "print(f'Number of features: {X.shape[1]}')\n",
    "print(f'Number of classes: {n_classes}')\n",
    "print(f'X_shape: {X.shape}')\n",
    "print(f'y_shape: {y.shape}')\n"
   ]
  },
  {
   "cell_type": "markdown",
   "id": "ed9858a8",
   "metadata": {},
   "source": [
    "## Load Test Data"
   ]
  },
  {
   "cell_type": "code",
   "execution_count": 9,
   "id": "16784d69",
   "metadata": {},
   "outputs": [
    {
     "name": "stdout",
     "output_type": "stream",
     "text": [
      "Number of test examples: 7172\n",
      "X_test_shape: (7172, 784)\n",
      "y_test_shape: (7172,)\n"
     ]
    }
   ],
   "source": [
    "X_test = np.array(test.drop('label', axis=1))\n",
    "y_test = np.array(test['label'])\n",
    "\n",
    "# number of test examples\n",
    "m_test = len(y_test)\n",
    "\n",
    "pixel_max_value = 255.0\n",
    "\n",
    "X_test = np.array(X_test , dtype='float')/ pixel_max_value\n",
    "\n",
    "n_test_classes = len(np.unique(y_test))\n",
    "\n",
    "for i in range(len(y_test)):\n",
    "    if y_test[i] > 8:\n",
    "        y_test[i] -= 1\n",
    "\n",
    "\n",
    "print(f'Number of test examples: {m_test}')\n",
    "print(f'X_test_shape: {X_test.shape}')\n",
    "print(f'y_test_shape: {y_test.shape}')"
   ]
  },
  {
   "cell_type": "markdown",
   "id": "df08a66b",
   "metadata": {},
   "source": [
    "## Model Train"
   ]
  },
  {
   "cell_type": "code",
   "execution_count": 10,
   "id": "2bfdaf30",
   "metadata": {},
   "outputs": [
    {
     "name": "stderr",
     "output_type": "stream",
     "text": [
      "/home/rodrigoabreu/.local/lib/python3.10/site-packages/sklearn/linear_model/_logistic.py:1247: FutureWarning: 'multi_class' was deprecated in version 1.5 and will be removed in 1.7. From then on, it will always use 'multinomial'. Leave it to its default value to avoid this warning.\n",
      "  warnings.warn(\n"
     ]
    },
    {
     "name": "stdout",
     "output_type": "stream",
     "text": [
      "Accuracy: 0.6940881204684886\n",
      "\n",
      "Classification Report:\n",
      "               precision    recall  f1-score   support\n",
      "\n",
      "           0       0.88      1.00      0.94       331\n",
      "           1       1.00      0.89      0.94       432\n",
      "           2       0.87      0.91      0.89       310\n",
      "           3       0.90      0.84      0.87       245\n",
      "           4       0.88      0.87      0.88       498\n",
      "           5       0.71      0.91      0.80       247\n",
      "           6       0.82      0.79      0.80       348\n",
      "           7       0.85      0.72      0.78       436\n",
      "           8       0.58      0.61      0.59       288\n",
      "           9       0.66      0.41      0.50       331\n",
      "          10       0.65      0.90      0.75       209\n",
      "          11       0.67      0.64      0.66       394\n",
      "          12       0.66      0.57      0.61       291\n",
      "          13       0.99      0.61      0.75       246\n",
      "          14       0.90      0.95      0.92       347\n",
      "          15       0.65      0.74      0.69       164\n",
      "          16       0.17      0.43      0.25       144\n",
      "          17       0.35      0.43      0.38       246\n",
      "          18       0.37      0.37      0.37       248\n",
      "          19       0.45      0.46      0.45       266\n",
      "          20       0.87      0.54      0.66       346\n",
      "          21       0.42      0.61      0.49       206\n",
      "          22       0.55      0.45      0.50       267\n",
      "          23       0.69      0.57      0.63       332\n",
      "\n",
      "    accuracy                           0.69      7172\n",
      "   macro avg       0.69      0.68      0.67      7172\n",
      "weighted avg       0.73      0.69      0.70      7172\n",
      "\n"
     ]
    },
    {
     "ename": "NameError",
     "evalue": "name 'sns' is not defined",
     "output_type": "error",
     "traceback": [
      "\u001b[0;31m---------------------------------------------------------------------------\u001b[0m",
      "\u001b[0;31mNameError\u001b[0m                                 Traceback (most recent call last)",
      "Cell \u001b[0;32mIn[10], line 14\u001b[0m\n\u001b[1;32m     12\u001b[0m conf_matrix \u001b[38;5;241m=\u001b[39m confusion_matrix(y_test, y_pred)\n\u001b[1;32m     13\u001b[0m plt\u001b[38;5;241m.\u001b[39mfigure(figsize\u001b[38;5;241m=\u001b[39m(\u001b[38;5;241m10\u001b[39m, \u001b[38;5;241m8\u001b[39m))\n\u001b[0;32m---> 14\u001b[0m \u001b[43msns\u001b[49m\u001b[38;5;241m.\u001b[39mheatmap(conf_matrix, annot\u001b[38;5;241m=\u001b[39m\u001b[38;5;28;01mTrue\u001b[39;00m, fmt\u001b[38;5;241m=\u001b[39m\u001b[38;5;124m'\u001b[39m\u001b[38;5;124md\u001b[39m\u001b[38;5;124m'\u001b[39m, cmap\u001b[38;5;241m=\u001b[39m\u001b[38;5;124m'\u001b[39m\u001b[38;5;124mBlues\u001b[39m\u001b[38;5;124m'\u001b[39m)\n\u001b[1;32m     15\u001b[0m plt\u001b[38;5;241m.\u001b[39mtitle(\u001b[38;5;124m\"\u001b[39m\u001b[38;5;124mConfusion Matrix - Softmax Regression\u001b[39m\u001b[38;5;124m\"\u001b[39m)\n\u001b[1;32m     16\u001b[0m plt\u001b[38;5;241m.\u001b[39mxlabel(\u001b[38;5;124m\"\u001b[39m\u001b[38;5;124mPredicted Labels\u001b[39m\u001b[38;5;124m\"\u001b[39m)\n",
      "\u001b[0;31mNameError\u001b[0m: name 'sns' is not defined"
     ]
    },
    {
     "data": {
      "text/plain": [
       "<Figure size 1000x800 with 0 Axes>"
      ]
     },
     "metadata": {},
     "output_type": "display_data"
    }
   ],
   "source": [
    "model = LogisticRegression(multi_class='multinomial', solver='lbfgs', max_iter=1000)\n",
    "model.fit(X, y)\n",
    "\n",
    "# Predict on test data\n",
    "y_pred = model.predict(X_test)\n",
    "\n",
    "# Evaluate the model\n",
    "print(\"Accuracy:\", accuracy_score(y_test, y_pred))\n",
    "print(\"\\nClassification Report:\\n\", classification_report(y_test, y_pred))\n",
    "\n",
    "# Plot confusion matrix\n",
    "conf_matrix = confusion_matrix(y_test, y_pred)\n",
    "plt.figure(figsize=(10, 8))\n",
    "sns.heatmap(conf_matrix, annot=True, fmt='d', cmap='Blues')\n",
    "plt.title(\"Confusion Matrix - Softmax Regression\")\n",
    "plt.xlabel(\"Predicted Labels\")\n",
    "plt.ylabel(\"True Labels\")\n",
    "plt.show()"
   ]
  }
 ],
 "metadata": {
  "kernelspec": {
   "display_name": "Python 3",
   "language": "python",
   "name": "python3"
  },
  "language_info": {
   "codemirror_mode": {
    "name": "ipython",
    "version": 3
   },
   "file_extension": ".py",
   "mimetype": "text/x-python",
   "name": "python",
   "nbconvert_exporter": "python",
   "pygments_lexer": "ipython3",
   "version": "3.10.12"
  }
 },
 "nbformat": 4,
 "nbformat_minor": 5
}

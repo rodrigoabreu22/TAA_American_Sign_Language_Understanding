{
 "cells": [
  {
   "cell_type": "markdown",
   "id": "77774c4b",
   "metadata": {},
   "source": [
    "# American SIgn Language Understanding - TAA Group Project\n",
    "\n",
    "## Introduction\n",
    "\n",
    "## Libraries"
   ]
  },
  {
   "cell_type": "code",
   "execution_count": null,
   "id": "0a927812",
   "metadata": {
    "vscode": {
     "languageId": "plaintext"
    }
   },
   "outputs": [],
   "source": [
    "import numpy as np\n",
    "import matplotlib.pyplot as plt\n",
    "import pandas as pd"
   ]
  }
 ],
 "metadata": {
  "language_info": {
   "name": "python"
  }
 },
 "nbformat": 4,
 "nbformat_minor": 5
}
